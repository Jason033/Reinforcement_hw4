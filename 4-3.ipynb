{
 "cells": [
  {
   "cell_type": "code",
   "execution_count": 4,
   "id": "a355de28",
   "metadata": {},
   "outputs": [
    {
     "name": "stdout",
     "output_type": "stream",
     "text": [
      "Note: you may need to restart the kernel to use updated packages.\n",
      "Note: you may need to restart the kernel to use updated packages.\n",
      "Note: you may need to restart the kernel to use updated packages.\n",
      "Note: you may need to restart the kernel to use updated packages.\n"
     ]
    },
    {
     "name": "stderr",
     "output_type": "stream",
     "text": [
      "  WARNING: Failed to remove contents in a temporary directory 'C:\\Users\\poki0\\Desktop\\student\\deep_learning\\hw4\\.conda\\Lib\\site-packages\\~umpy.libs'.\n",
      "  You can safely remove it manually.\n",
      "  WARNING: Failed to remove contents in a temporary directory 'C:\\Users\\poki0\\Desktop\\student\\deep_learning\\hw4\\.conda\\Lib\\site-packages\\~umpy'.\n",
      "  You can safely remove it manually.\n"
     ]
    },
    {
     "name": "stdout",
     "output_type": "stream",
     "text": [
      "Note: you may need to restart the kernel to use updated packages.\n"
     ]
    },
    {
     "name": "stderr",
     "output_type": "stream",
     "text": [
      "ERROR: unknown command \"insatll\" - maybe you meant \"install\"\n",
      "\n"
     ]
    }
   ],
   "source": [
    "%pip install -q matplotlib\n",
    "%pip install -q numpy\n",
    "%pip install -q torch\n",
    "%pip install -q tensorflow\n",
    "%pip insatll -q tensorflow.keras\n",
    "import matplotlib.pyplot as plt\n",
    "import numpy as np\n",
    "# 下載 Gridworld.py 及 GridBoard.py (-q 是設為安靜模式)\n",
    "# !curl -O https://github.com/DeepReinforcementLearning/DeepReinforcementLearningInAction/raw/master/Errata/Gridworld.py\n",
    "# !curl -O https://github.com/DeepReinforcementLearning/DeepReinforcementLearningInAction/raw/master/Errata/GridBoard.py\n",
    "\n"
   ]
  },
  {
   "cell_type": "code",
   "execution_count": 2,
   "id": "1c12c110",
   "metadata": {},
   "outputs": [
    {
     "data": {
      "text/plain": [
       "array([['+', '-', ' ', 'P'],\n",
       "       [' ', 'W', ' ', ' '],\n",
       "       [' ', ' ', ' ', ' '],\n",
       "       [' ', ' ', ' ', ' ']], dtype='<U2')"
      ]
     },
     "execution_count": 2,
     "metadata": {},
     "output_type": "execute_result"
    }
   ],
   "source": [
    "from Gridworld_model import *\n",
    "game = Gridworld(size=4, mode='static')\n",
    "game.display()"
   ]
  },
  {
   "cell_type": "code",
   "execution_count": 3,
   "id": "bcd4b906",
   "metadata": {},
   "outputs": [],
   "source": [
    "action_set = {\n",
    "\t0: 'u', #『0』代表『向上』\n",
    "\t1: 'd', #『1』代表『向下』\n",
    "\t2: 'l', #『2』代表『向左』\n",
    "\t3: 'r' #『3』代表『向右』\n",
    "}"
   ]
  },
  {
   "cell_type": "markdown",
   "id": "742851e6",
   "metadata": {},
   "source": [
    "# 網路參數設定"
   ]
  },
  {
   "cell_type": "code",
   "execution_count": 9,
   "id": "e7cdcb3f",
   "metadata": {},
   "outputs": [],
   "source": [
    "\"\"\"keras_dqn.py\n",
    "=================================\n",
    "Minimal, self-contained DQN with Experience Replay using Keras for the 4×4 Gridworld.\n",
    "\n",
    "Usage (static mode example) ───────────────────────────────────────────\n",
    "$ python keras_dqn.py --mode static --episodes 5000\n",
    "\n",
    "Required file: Gridworld_model.py (from DRL-in-Action)\n",
    "-----------------------------------------------------------------------\n",
    "\"\"\"\n",
    "import argparse, random\n",
    "from collections import deque, namedtuple\n",
    "\n",
    "import numpy as np\n",
    "import tensorflow as tf\n",
    "from tensorflow.keras import layers, models, optimizers\n",
    "from tensorflow.keras import losses as loss_module\n",
    "from Gridworld_model import Gridworld\n",
    "import matplotlib.pyplot as plt\n",
    "\n",
    "# ───────────────────────────── replay buffer ────────────────────────── #\n",
    "Transition = namedtuple('T', ['s', 'a', 'r', 's1', 'done'])\n",
    "class ReplayBuffer:\n",
    "    def __init__(self, capacity=10000):\n",
    "        self.buf = deque(maxlen=capacity)\n",
    "    def add(self, *args):\n",
    "        self.buf.append(Transition(*args))\n",
    "    def sample(self, batch_size):\n",
    "        batch = random.sample(self.buf, batch_size)\n",
    "        t = Transition(*zip(*batch))\n",
    "        return (\n",
    "            np.stack(t.s),               # (B, 64)\n",
    "            np.array(t.a,   dtype=np.int32).reshape(-1,1),\n",
    "            np.array(t.r,   dtype=np.float32).reshape(-1,1),\n",
    "            np.stack(t.s1),              # (B, 64)\n",
    "            np.array(t.done, dtype=np.float32).reshape(-1,1),\n",
    "        )\n",
    "    def __len__(self):\n",
    "        return len(self.buf)\n",
    "\n",
    "# ─────────────────────────────── network ────────────────────────────── #\n",
    "def build_model(input_dim=64, hidden1=150, hidden2=100, output_dim=4):\n",
    "    model = models.Sequential([\n",
    "        layers.Input(shape=(input_dim,)),\n",
    "        layers.Dense(hidden1, activation='relu'),\n",
    "        layers.Dense(hidden2, activation='relu'),\n",
    "        layers.Dense(output_dim)\n",
    "    ])\n",
    "    return model"
   ]
  },
  {
   "cell_type": "code",
   "execution_count": 10,
   "id": "cd49680e",
   "metadata": {},
   "outputs": [
    {
     "name": "stdout",
     "output_type": "stream",
     "text": [
      "Ep    0 | ε=0.985 | last loss=2.7239\n",
      "Ep  100 | ε=0.533 | last loss=0.3419\n",
      "Ep  200 | ε=0.322 | last loss=0.4406\n",
      "Ep  300 | ε=0.155 | last loss=0.0362\n",
      "Ep  400 | ε=0.100 | last loss=0.0853\n",
      "Ep  500 | ε=0.100 | last loss=0.0466\n",
      "Ep  600 | ε=0.100 | last loss=0.0513\n",
      "Ep  700 | ε=0.100 | last loss=0.0419\n",
      "Ep  800 | ε=0.100 | last loss=0.0343\n",
      "Ep  900 | ε=0.100 | last loss=0.0550\n",
      "Ep 1000 | ε=0.100 | last loss=0.1478\n",
      "Ep 1100 | ε=0.100 | last loss=0.1248\n",
      "Ep 1200 | ε=0.100 | last loss=0.0839\n",
      "Ep 1300 | ε=0.100 | last loss=0.0485\n",
      "Ep 1400 | ε=0.100 | last loss=0.2048\n",
      "Ep 1500 | ε=0.100 | last loss=0.1837\n",
      "Ep 1600 | ε=0.100 | last loss=0.0269\n",
      "Ep 1700 | ε=0.100 | last loss=0.0614\n",
      "Ep 1800 | ε=0.100 | last loss=0.0357\n",
      "Ep 1900 | ε=0.100 | last loss=0.1266\n",
      "Ep 2000 | ε=0.100 | last loss=0.0532\n",
      "Ep 2100 | ε=0.100 | last loss=0.0600\n",
      "Ep 2200 | ε=0.100 | last loss=0.0345\n",
      "Ep 2300 | ε=0.100 | last loss=0.0346\n",
      "Ep 2400 | ε=0.100 | last loss=0.0333\n",
      "Ep 2500 | ε=0.100 | last loss=0.0358\n",
      "Ep 2600 | ε=0.100 | last loss=0.0112\n",
      "Ep 2700 | ε=0.100 | last loss=0.0080\n",
      "Ep 2800 | ε=0.100 | last loss=0.0663\n",
      "Ep 2900 | ε=0.100 | last loss=0.1001\n",
      "Ep 3000 | ε=0.100 | last loss=0.0100\n",
      "Ep 3100 | ε=0.100 | last loss=0.0441\n",
      "Ep 3200 | ε=0.100 | last loss=0.0108\n",
      "Ep 3300 | ε=0.100 | last loss=0.0229\n",
      "Ep 3400 | ε=0.100 | last loss=0.0207\n",
      "Ep 3500 | ε=0.100 | last loss=0.0355\n",
      "Ep 3600 | ε=0.100 | last loss=0.0159\n",
      "Ep 3700 | ε=0.100 | last loss=0.0087\n",
      "Ep 3800 | ε=0.100 | last loss=0.0140\n",
      "Ep 3900 | ε=0.100 | last loss=0.0100\n",
      "Ep 4000 | ε=0.100 | last loss=0.0227\n",
      "Ep 4100 | ε=0.100 | last loss=0.0850\n",
      "Ep 4200 | ε=0.100 | last loss=0.0372\n",
      "Ep 4300 | ε=0.100 | last loss=0.0133\n",
      "Ep 4400 | ε=0.100 | last loss=0.0207\n",
      "Ep 4500 | ε=0.100 | last loss=0.0206\n",
      "Ep 4600 | ε=0.100 | last loss=0.0152\n",
      "Ep 4700 | ε=0.100 | last loss=0.0102\n",
      "Ep 4800 | ε=0.100 | last loss=0.0230\n",
      "Ep 4900 | ε=0.100 | last loss=0.0617\n"
     ]
    },
    {
     "data": {
      "image/png": "[encoded data removed]",
      "text/plain": [
       "<Figure size 800x500 with 1 Axes>"
      ]
     },
     "metadata": {},
     "output_type": "display_data"
    }
   ],
   "source": [
    "# ─────────────────────────────── train ─────────────────────────────── #\n",
    "def train(mode='static', episodes=5000, batch_size=64, gamma=0.99,\n",
    "          lr=1e-3, epsilon_start=1.0, epsilon_end=0.1, eps_decay_steps=5000):\n",
    "    # 初始化\n",
    "    model = build_model()\n",
    "    optimizer = optimizers.Adam(learning_rate=lr)\n",
    "    loss_fn = loss_module.MeanSquaredError()\n",
    "    buffer = ReplayBuffer(capacity=10000)\n",
    "    epsilon = epsilon_start\n",
    "    eps_decay = (epsilon_start - epsilon_end) / eps_decay_steps\n",
    "    action_set = {0:'u', 1:'d', 2:'l', 3:'r'}\n",
    "    loss_history = []\n",
    "\n",
    "    for ep in range(episodes):\n",
    "        env = Gridworld(size=4, mode=mode)\n",
    "        state = env.board.render_np().reshape(64) + np.random.rand(64)/10.0\n",
    "        done = False\n",
    "        while not done:\n",
    "            # ε-greedy\n",
    "            if random.random() < epsilon:\n",
    "                a_idx = random.randint(0,3)\n",
    "            else:\n",
    "                qvals = model.predict(state.reshape(1,64), verbose=0)\n",
    "                a_idx = int(np.argmax(qvals[0]))\n",
    "            env.makeMove(action_set[a_idx])\n",
    "            next_state = env.board.render_np().reshape(64) + np.random.rand(64)/10.0\n",
    "            reward = env.reward()\n",
    "            done = abs(reward) == 10\n",
    "\n",
    "            # 存回放緩衝區\n",
    "            buffer.add(state, a_idx, reward, next_state, done)\n",
    "\n",
    "            # 學習\n",
    "            if len(buffer) >= batch_size:\n",
    "                s, a, r, s1, d = buffer.sample(batch_size)\n",
    "                # 計算 TD target\n",
    "                q_next = model.predict(s1, verbose=0)\n",
    "                max_q_next = np.max(q_next, axis=1, keepdims=True)\n",
    "                y = r + (1 - d) * gamma * max_q_next\n",
    "\n",
    "                with tf.GradientTape() as tape:\n",
    "                    q_pred_all = model(tf.convert_to_tensor(s, dtype=tf.float32))\n",
    "                    # gather Q(s,a)\n",
    "                    idx = np.concatenate([np.arange(batch_size).reshape(-1,1), a], axis=1)\n",
    "                    q_pred = tf.gather_nd(q_pred_all, idx)\n",
    "                    q_pred = tf.expand_dims(q_pred, axis=1)\n",
    "                    loss = loss_fn(y, q_pred)\n",
    "                grads = tape.gradient(loss, model.trainable_variables)\n",
    "                optimizer.apply_gradients(zip(grads, model.trainable_variables))\n",
    "                loss_history.append(float(loss))\n",
    "\n",
    "            state = next_state\n",
    "            # ε decay\n",
    "            if epsilon > epsilon_end:\n",
    "                epsilon -= eps_decay\n",
    "\n",
    "        # Logging\n",
    "        if ep % 100 == 0 and loss_history:\n",
    "            print(f\"Ep {ep:4d} | ε={epsilon:.3f} | last loss={loss_history[-1]:.4f}\")\n",
    "\n",
    "    # 畫 Loss 曲線\n",
    "    if loss_history:\n",
    "        plt.figure(figsize=(8,5))\n",
    "        plt.plot(loss_history)\n",
    "        plt.title('Keras DQN Loss')\n",
    "        plt.xlabel('Updates')\n",
    "        plt.ylabel('Loss')\n",
    "        plt.show()\n",
    "\n",
    "if __name__ == '__main__':\n",
    "    p = argparse.ArgumentParser()\n",
    "    p.add_argument('--mode', choices=['static','player','random'], default='static')\n",
    "    p.add_argument('--episodes', type=int, default=5000)\n",
    "    args, _ = p.parse_known_args()\n",
    "    train(mode=args.mode, episodes=args.episodes)"
   ]
  }
 ],
 "metadata": {
  "kernelspec": {
   "display_name": ".conda",
   "language": "python",
   "name": "python3"
  },
  "language_info": {
   "codemirror_mode": {
    "name": "ipython",
    "version": 3
   },
   "file_extension": ".py",
   "mimetype": "text/x-python",
   "name": "python",
   "nbconvert_exporter": "python",
   "pygments_lexer": "ipython3",
   "version": "3.11.11"
  }
 },
 "nbformat": 4,
 "nbformat_minor": 5
}
